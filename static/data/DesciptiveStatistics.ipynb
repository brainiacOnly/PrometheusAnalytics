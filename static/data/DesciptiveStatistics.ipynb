{
 "cells": [
  {
   "cell_type": "heading",
   "metadata": {},
   "level": 1,
   "source": [
    "Підготовка дaних"
   ]
  },
  {
   "cell_type": "code",
   "execution_count": 1,
   "metadata": {},
   "outputs": [
    {
     "name": "stderr",
     "output_type": "stream",
     "text": [
      "/usr/local/lib/python2.7/dist-packages/pandas/io/parsers.py:1139: DtypeWarning: Columns (13) have mixed types. Specify dtype option on import or set low_memory=False.\n",
      "  data = self._reader.read(nrows)\n"
     ]
    }
   ],
   "source": [
    "import pandas as pd\n",
    "import numpy as np\n",
    "import pylab as P\n",
    "from scipy.cluster.vq import *\n",
    "import matplotlib.pyplot as plt\n",
    "%matplotlib inline\n",
    "\n",
    "userprofile = pd.read_csv(\"auth_userprofile.csv\",quotechar='\"',skipinitialspace=True,escapechar='\\\\')\n",
    "certificates = pd.read_csv(\"certificates_generatedcertificate.csv\",quotechar='\"',skipinitialspace=True,escapechar='\\\\')\n",
    "studentmodule = pd.read_csv(\"courseware_studentmodule_history.csv\",quotechar='\"',skipinitialspace=True,escapechar='\\\\')"
   ]
  },
  {
   "cell_type": "code",
   "execution_count": 2,
   "metadata": {},
   "outputs": [
    {
     "name": "stdout",
     "output_type": "stream",
     "text": [
      "['KPI/Algo101/2014_Fall' 'edX/DemoX/Demo_Course' 'NAUKMA/101/2014_T2'\n",
      " 'KNU/101/2014_T2' 'KPI/Programming101/2015_T1' 'NaUKMA/TC101/2015_T1'\n",
      " 'KPI/Algorithms101/2015_Spring' 'KPI/IS101/2014_T1']\n",
      "percent=11.3040160259%\n",
      "dowloadable=1185\n",
      "notpassing=9298\n",
      "all=10483\n"
     ]
    }
   ],
   "source": [
    "print certificates.course_id.unique() \n",
    "course = 'KNU/101/2014_T2'\n",
    "a = certificates[certificates.course_id == course]\n",
    "print 'percent=' + str(float(len(a[a.status == 'downloadable']))/len(a)*100) + '%'\n",
    "print 'dowloadable='+str(len(a[a.status == 'downloadable']))\n",
    "print 'notpassing='+str(len(a[a.status != 'downloadable']))\n",
    "print 'all='+str(len(a))"
   ]
  },
  {
   "cell_type": "code",
   "execution_count": 3,
   "metadata": {},
   "outputs": [],
   "source": [
    "cert = certificates[['user_id','grade','course_id','status','name','created_date']]\n",
    "cert = cert[cert.course_id == 'KNU/101/2014_T2']\n",
    "users = userprofile[['user_id','name','gender','year_of_birth','level_of_education']]\n",
    "registered = pd.merge(cert,users,how='inner',on='user_id') #виділення зареєстрованих на курс\n",
    "certified = registered[registered.status == 'downloadable']              #виділення тих, хто отримав сертифікат"
   ]
  },
  {
   "cell_type": "code",
   "execution_count": 14,
   "metadata": {},
   "outputs": [],
   "source": [
    ""
   ]
  },
  {
   "cell_type": "heading",
   "metadata": {},
   "level": 1,
   "source": [
    "Розподіл по віковим групам"
   ]
  },
  {
   "cell_type": "heading",
   "metadata": {},
   "level": 3,
   "source": [
    "Всі, хто зареєструвався на курс"
   ]
  },
  {
   "cell_type": "code",
   "execution_count": 5,
   "metadata": {},
   "outputs": [
    {
     "data": {
      "image/png": "[encoded data removed]",
      "text/plain": [
       "<matplotlib.figure.Figure at 0x7f21b057c7d0>"
      ]
     },
     "metadata": {},
     "output_type": "display_data"
    }
   ],
   "source": [
    "registeredWithAge = registered\n",
    "registeredWithAge = registeredWithAge.rename(columns = {'year_of_birth':'Age'})\n",
    "registeredWithAge.Age = 2015 - registeredWithAge.Age\n",
    "registeredWithAge.Age.hist()\n",
    "P.show()\n",
    "#вікова гістограма зареєстрованих на курс користувачів. Всь абсцис - кількість років, ордината - кількість людей даного віку"
   ]
  },
  {
   "cell_type": "heading",
   "metadata": {},
   "level": 4,
   "source": [
    "Для того, щоб конкретизувати попередню діаграму виконаймо кластеризацію за віком"
   ]
  },
  {
   "cell_type": "code",
   "execution_count": 34,
   "metadata": {},
   "outputs": [
    {
     "data": {
      "text/plain": [
       "without age     11\n",
       "below 20         9\n",
       "20-24            9\n",
       "25-29           11\n",
       "30-34           13\n",
       "35-39           14\n",
       "40-44           14\n",
       "45-49           16\n",
       "50 and higer    18\n",
       "dtype: float64"
      ]
     },
     "execution_count": 34,
     "metadata": {},
     "output_type": "execute_result"
    },
    {
     "data": {
      "image/png": "[encoded data removed]",
      "text/plain": [
       "<matplotlib.figure.Figure at 0x7f1cbd8e2110>"
      ]
     },
     "metadata": {},
     "output_type": "display_data"
    }
   ],
   "source": [
    "cert = certificates[['user_id','grade','course_id','status','name','created_date']]\n",
    "cert = cert[cert.course_id == 'KNU/101/2014_T2']\n",
    "users = users[['user_id','name','gender','year_of_birth','level_of_education']]\n",
    "registered = pd.merge(cert,users,how='inner',on='user_id')\n",
    "\n",
    "import time\n",
    "registered['create_year'] = registered.created_date.apply(lambda x: time.strptime(x,'%Y-%m-%d %H:%M:%S').tm_year)\n",
    "registered = registered.rename(columns = {'year_of_birth':'Age'})\n",
    "registered.Age = registered.create_year - registered.Age\n",
    "certified = registered[registered.status == 'downloadable']\n",
    "\n",
    "notsetAge = registered[registered.Age.isnull()]\n",
    "withAge = registered[registered.Age.notnull()]\n",
    "certNoAge = certified[certified.Age.isnull()]\n",
    "certAge = certified[certified.Age.notnull()]\n",
    "\n",
    "registeredGroups = pd.Series([len(notsetAge)],index=['without age'])\n",
    "certifiedGroups = pd.Series([len(certNoAge)],index=['without age'])\n",
    "registeredGroups.set_value('below 20',len(withAge[withAge.Age < 20]))\n",
    "certifiedGroups.set_value('below 20',len(certAge[certAge.Age < 20]))\n",
    "\n",
    "for i in range(0,6):\n",
    "    begin, end = 20+i*5, 20+(i+1)*5\n",
    "    registeredGroups.set_value(str(begin) + '-' + str(end-1),len(withAge.Age[withAge.Age >= begin ][withAge.Age < end]))\n",
    "    certifiedGroups.set_value(str(begin) + '-' + str(end-1),len(certAge.Age[certAge.Age >= begin ][certAge.Age < end]))\n",
    "\n",
    "registeredGroups.set_value('50 and higer',len(withAge[withAge.Age >= 50]))\n",
    "certifiedGroups.set_value('50 and higer',len(certAge[certAge.Age >= 50]))\n",
    "plot_data = pd.concat([registeredGroups,certifiedGroups],axis=1,keys=['registered','passed'])\n",
    "plot_data['name'] = plot_data.index\n",
    "plot_data = pd.concat([pd.Series(registeredGroups.index,index=registeredGroups.index), certifiedGroups / registeredGroups * 100],axis=1,keys=['index','percent'])\n",
    "plot_data.plot(kind='bar')\n",
    "\n",
    "\"\"\"\n",
    "fig, ax = plt.subplots()\n",
    "ind = np.arange(len(plot_data.index))\n",
    "width = 0.35\n",
    "rects1 = ax.bar(ind, plot_data.values, width, color='r')\n",
    "ax.set_ylabel('Passed  per group')\n",
    "ax.set_title('Percent, %')\n",
    "ax.set_xticks(ind+width)\n",
    "ax.set_xticklabels(plot_data.index.tolist())\n",
    "plt.show()\n",
    "\"\"\"\n",
    "(certifiedGroups / registeredGroups * 100).apply(lambda x: round(x))"
   ]
  },
  {
   "cell_type": "heading",
   "metadata": {},
   "level": 4,
   "source": [
    "Поділ на вікові групи: не вказаний вік, до 20, 6 груп по 5 років шириною, 50 і більше."
   ]
  },
  {
   "cell_type": "code",
   "execution_count": 7,
   "metadata": {},
   "outputs": [],
   "source": [
    ""
   ]
  },
  {
   "cell_type": "code",
   "execution_count": 112,
   "metadata": {},
   "outputs": [
    {
     "data": {
      "text/plain": [
       "<matplotlib.axes.AxesSubplot at 0x7fe520061c90>"
      ]
     },
     "execution_count": 112,
     "metadata": {},
     "output_type": "execute_result"
    },
    {
     "data": {
      "image/png": "[encoded data removed]",
      "text/plain": [
       "<matplotlib.figure.Figure at 0x7fe520061410>"
      ]
     },
     "metadata": {},
     "output_type": "display_data"
    }
   ],
   "source": [
    "registeredGroups = pd.Series([len(notsetAge)],index=['without age'])\n",
    "certifiedGroups = pd.Series([len(certNoAge)],index=['without age'])\n",
    "registeredGroups.set_value('below 20',len(withAge[withAge.Age < 20]))\n",
    "certifiedGroups.set_value('below 20',len(certAge[certAge.Age < 20]))\n",
    "for i in range(0,6):\n",
    "    begin, end = 20+i*5, 20+(i+1)*5\n",
    "    registeredGroups.set_value(str(begin) + '-' + str(end-1),len(withAge.Age[withAge.Age >= begin ][withAge.Age < end]))\n",
    "    certifiedGroups.set_value(str(begin) + '-' + str(end-1),len(certAge.Age[certAge.Age >= begin ][certAge.Age < end]))\n",
    "registeredGroups.set_value('50 and higer',len(withAge[withAge.Age >= 50]))\n",
    "certifiedGroups.set_value('50 and higer',len(certAge[certAge.Age >= 50]))\n",
    "\n",
    "#registeredGroups.plot(kind='bar')\n",
    "pd.concat([registeredGroups,certifiedGroups],axis=1,keys=['registered','passed']).plot(kind='bar')"
   ]
  },
  {
   "cell_type": "heading",
   "metadata": {},
   "level": 3,
   "source": [
    "Ті, що пройшли курс"
   ]
  },
  {
   "cell_type": "code",
   "execution_count": 78,
   "metadata": {},
   "outputs": [
    {
     "data": {
      "image/png": "[encoded data removed]",
      "text/plain": [
       "<matplotlib.figure.Figure at 0x142fcd30>"
      ]
     },
     "metadata": {},
     "output_type": "display_data"
    }
   ],
   "source": [
    "certifiedWithAge = certified \n",
    "certifiedWithAge = certifiedWithAge.rename(columns = {'year_of_birth':'Age'})\n",
    "certifiedWithAge.Age = 2015 - certifiedWithAge.Age\n",
    "certifiedWithAge.Age.hist()\n",
    "P.show()\n",
    "#вікова гісторнама для тих, хто завершив курс"
   ]
  },
  {
   "cell_type": "code",
   "execution_count": 79,
   "metadata": {},
   "outputs": [],
   "source": [
    "#divide existing dataset on clusters\n",
    "notsetAge = certifiedWithAge[certifiedWithAge.Age.isnull()]\n",
    "withAge = certifiedWithAge[certifiedWithAge.Age.notnull()]"
   ]
  },
  {
   "cell_type": "code",
   "execution_count": 80,
   "metadata": {},
   "outputs": [
    {
     "data": {
      "text/plain": [
       "without age      77\n",
       "below 20         69\n",
       "20-24           400\n",
       "25-29           433\n",
       "30-34           344\n",
       "35-39           199\n",
       "40-44            98\n",
       "45-49            77\n",
       "50 and higer     35\n",
       "dtype: int64"
      ]
     },
     "execution_count": 80,
     "metadata": {},
     "output_type": "execute_result"
    },
    {
     "data": {
      "image/png": "[encoded data removed]",
      "text/plain": [
       "<matplotlib.figure.Figure at 0x1ecd2198>"
      ]
     },
     "metadata": {},
     "output_type": "display_data"
    }
   ],
   "source": [
    "certifiedGroups = pd.Series([len(notsetAge)],index=['without age'])\n",
    "certifiedGroups.set_value('below 20',len(withAge[withAge.Age < 20]))\n",
    "for i in range(0,6):\n",
    "    begin, end = 20+i*5, 20+(i+1)*5\n",
    "    certifiedGroups.set_value(str(begin) + '-' + str(end-1),len(withAge.Age[withAge.Age >= begin ][withAge.Age < end]))\n",
    "certifiedGroups.set_value('50 and higer',len(withAge[withAge.Age >= 50]))\n",
    "\n",
    "certifiedGroups.plot(kind='bar')\n",
    "certifiedGroups"
   ]
  },
  {
   "cell_type": "heading",
   "metadata": {},
   "level": 3,
   "source": [
    "Відсоток проходження для кожної вікової групи"
   ]
  },
  {
   "cell_type": "code",
   "execution_count": 81,
   "metadata": {},
   "outputs": [
    {
     "data": {
      "text/plain": [
       "without age     0.102530\n",
       "below 20        0.066796\n",
       "20-24           0.100730\n",
       "25-29           0.108958\n",
       "30-34           0.112861\n",
       "35-39           0.109101\n",
       "40-44           0.105150\n",
       "45-49           0.177829\n",
       "50 and higer    0.101156\n",
       "dtype: float64"
      ]
     },
     "execution_count": 81,
     "metadata": {},
     "output_type": "execute_result"
    },
    {
     "data": {
      "image/png": "[encoded data removed]",
      "text/plain": [
       "<matplotlib.figure.Figure at 0x20173ba8>"
      ]
     },
     "metadata": {},
     "output_type": "display_data"
    }
   ],
   "source": [
    "certifiedPersent = pd.Series(certifiedGroups.values.astype(float)/registeredGroups.values.astype(float), index=registeredGroups.index.values)\n",
    "certifiedPersent.plot(kind='bar')\n",
    "certifiedPersent"
   ]
  },
  {
   "cell_type": "heading",
   "metadata": {},
   "level": 1,
   "source": [
    "Розподіл рівня освіти"
   ]
  },
  {
   "cell_type": "markdown",
   "metadata": {},
   "source": [
    "Позначення рівня освіти на графіках:\n",
    "- level_of_education:\n",
    "- \"p\" - кандидатський чи докторський ступінь\n",
    "- \"m\" - магістр\n",
    "- \"b\" - бакалавр\n",
    "- \"a\" - незакінчена вища освіта\n",
    "- \"hs\" - середня освіта\n",
    "- \"jhs\" - професійно-технічна освіта\n",
    "- \"el\" - початкова освіта\n",
    "- \"none\" - немає\n",
    "- \"other\" - інше\n"
   ]
  },
  {
   "cell_type": "heading",
   "metadata": {},
   "level": 4,
   "source": [
    "Обрахунок кількості людей для кожного рівня освіти для тих, хто зареєструвався на курс"
   ]
  },
  {
   "cell_type": "code",
   "execution_count": 26,
   "metadata": {},
   "outputs": [
    {
     "data": {
      "text/plain": [
       "level_of_education\n",
       "a                     1555\n",
       "b                     1161\n",
       "el                     161\n",
       "hs                    1100\n",
       "jhs                    167\n",
       "m                     5518\n",
       "missed                 354\n",
       "none                    60\n",
       "other                   97\n",
       "p                      310\n",
       "Name: user_id, dtype: int64"
      ]
     },
     "execution_count": 26,
     "metadata": {},
     "output_type": "execute_result"
    }
   ],
   "source": [
    "registered = pd.merge(cert,users,how='inner',on='user_id').fillna('missed')\n",
    "certified = registered[registered.status == 'downloadable']\n",
    "\n",
    "registered.groupby('level_of_education').count().ix[:,0].plot(kind='bar')"
   ]
  },
  {
   "cell_type": "code",
   "execution_count": 82,
   "metadata": {},
   "outputs": [
    {
     "name": "stdout",
     "output_type": "stream",
     "text": [
      "                    count\n",
      "level_of_education       \n",
      "a                    2242\n",
      "b                    1874\n",
      "el                     77\n",
      "hs                    848\n",
      "jhs                   250\n",
      "m                   10090\n",
      "none                   26\n",
      "other                  71\n",
      "p                     441\n"
     ]
    },
    {
     "data": {
      "text/plain": [
       "<matplotlib.axes._subplots.AxesSubplot at 0x1f51aa58>"
      ]
     },
     "execution_count": 82,
     "metadata": {},
     "output_type": "execute_result"
    },
    {
     "data": {
      "image/png": "[encoded data removed]",
      "text/plain": [
       "<matplotlib.figure.Figure at 0x1fc16eb8>"
      ]
     },
     "metadata": {},
     "output_type": "display_data"
    }
   ],
   "source": [
    "edu_reg_dist = registered.groupby('level_of_education').agg(['count'])['id_x']\n",
    "print edu_reg_dist\n",
    "edu_reg_dist.plot(kind='bar')"
   ]
  },
  {
   "cell_type": "heading",
   "metadata": {},
   "level": 4,
   "source": [
    "Обрахунок кількості людей для кожного рівня освіти для тих, хто пройшов курс"
   ]
  },
  {
   "cell_type": "code",
   "execution_count": 83,
   "metadata": {},
   "outputs": [
    {
     "name": "stdout",
     "output_type": "stream",
     "text": [
      "                    count\n",
      "level_of_education       \n",
      "a                     196\n",
      "b                     160\n",
      "el                      4\n",
      "hs                     60\n",
      "jhs                    31\n",
      "m                    1151\n",
      "none                    2\n",
      "other                  10\n",
      "p                      67\n"
     ]
    },
    {
     "data": {
      "text/plain": [
       "<matplotlib.axes._subplots.AxesSubplot at 0x13e84320>"
      ]
     },
     "execution_count": 83,
     "metadata": {},
     "output_type": "execute_result"
    },
    {
     "data": {
      "image/png": "[encoded data removed]",
      "text/plain": [
       "<matplotlib.figure.Figure at 0x1fc02dd8>"
      ]
     },
     "metadata": {},
     "output_type": "display_data"
    }
   ],
   "source": [
    "edu_fin_dist = certified.groupby('level_of_education').agg(['count'])['id_x']\n",
    "print edu_fin_dist\n",
    "edu_fin_dist.plot(kind='bar')"
   ]
  },
  {
   "cell_type": "heading",
   "metadata": {},
   "level": 3,
   "source": [
    "Гендерний розподіл"
   ]
  },
  {
   "cell_type": "code",
   "execution_count": 16,
   "metadata": {},
   "outputs": [
    {
     "data": {
      "image/png": "[encoded data removed]",
      "text/plain": [
       "<matplotlib.figure.Figure at 0x7f2553ce23d0>"
      ]
     },
     "metadata": {},
     "output_type": "display_data"
    },
    {
     "data": {
      "image/png": "[encoded data removed]",
      "text/plain": [
       "<matplotlib.figure.Figure at 0x7f2553ce23d0>"
      ]
     },
     "metadata": {},
     "output_type": "display_data"
    }
   ],
   "source": [
    "cert = certificates[['user_id','grade','course_id','status','name','created_date']]\n",
    "cert = cert[cert.course_id == 'KNU/101/2014_T2']\n",
    "users = users[['user_id','name','gender','year_of_birth','level_of_education']]\n",
    "registered = pd.merge(cert,users,how='inner',on='user_id').dropna(subset=['gender'])\n",
    "certified = registered[registered.status == 'downloadable']\n",
    "\n",
    "registeredGroups =registered.groupby('gender').count().ix[:,0]\n",
    "certifiedGroups = certified.groupby('gender').count().ix[:,0]\n",
    "\n",
    "plot_data = pd.concat([registeredGroups,certifiedGroups],axis=1,keys=['registered','passed'])\n",
    "\n",
    "plot_data.plot(kind='bar').figure\n",
    "#certifiedGroups.plot(kind='pie')"
   ]
  },
  {
   "cell_type": "code",
   "execution_count": 19,
   "metadata": {},
   "outputs": [
    {
     "data": {
      "text/html": [
       "<div style=\"max-height:1000px;max-width:1500px;overflow:auto;\">\n",
       "<table border=\"1\" class=\"dataframe\">\n",
       "  <thead>\n",
       "    <tr style=\"text-align: right;\">\n",
       "      <th></th>\n",
       "      <th>user_id</th>\n",
       "      <th>grade</th>\n",
       "      <th>course_id</th>\n",
       "      <th>status</th>\n",
       "      <th>name_x</th>\n",
       "      <th>created_date</th>\n",
       "      <th>name_y</th>\n",
       "      <th>gender</th>\n",
       "      <th>year_of_birth</th>\n",
       "      <th>level_of_education</th>\n",
       "    </tr>\n",
       "  </thead>\n",
       "  <tbody>\n",
       "    <tr>\n",
       "      <th>1343 </th>\n",
       "      <td>  1936</td>\n",
       "      <td> 0.00</td>\n",
       "      <td> KNU/101/2014_T2</td>\n",
       "      <td>   notpassing</td>\n",
       "      <td>      Anna Shcherbak</td>\n",
       "      <td> 2015-01-14 23:51:46</td>\n",
       "      <td>      Anna Shcherbak</td>\n",
       "      <td> o</td>\n",
       "      <td> 1993</td>\n",
       "      <td>     b</td>\n",
       "    </tr>\n",
       "    <tr>\n",
       "      <th>1504 </th>\n",
       "      <td>  6852</td>\n",
       "      <td> 0.08</td>\n",
       "      <td> KNU/101/2014_T2</td>\n",
       "      <td>   notpassing</td>\n",
       "      <td>      Наталія Гловер</td>\n",
       "      <td> 2015-01-14 23:52:09</td>\n",
       "      <td>      Наталія Гловер</td>\n",
       "      <td> o</td>\n",
       "      <td> 1987</td>\n",
       "      <td>     m</td>\n",
       "    </tr>\n",
       "    <tr>\n",
       "      <th>2000 </th>\n",
       "      <td>  8938</td>\n",
       "      <td> 0.95</td>\n",
       "      <td> KNU/101/2014_T2</td>\n",
       "      <td> downloadable</td>\n",
       "      <td>       OksanaGannoha</td>\n",
       "      <td> 2015-01-14 23:53:18</td>\n",
       "      <td>       OksanaGannoha</td>\n",
       "      <td> o</td>\n",
       "      <td> 1967</td>\n",
       "      <td>     m</td>\n",
       "    </tr>\n",
       "    <tr>\n",
       "      <th>2152 </th>\n",
       "      <td>  9587</td>\n",
       "      <td> 0.00</td>\n",
       "      <td> KNU/101/2014_T2</td>\n",
       "      <td>   notpassing</td>\n",
       "      <td>          Юля Ключук</td>\n",
       "      <td> 2015-01-14 23:53:42</td>\n",
       "      <td>          Юля Ключук</td>\n",
       "      <td> o</td>\n",
       "      <td>  NaN</td>\n",
       "      <td>   NaN</td>\n",
       "    </tr>\n",
       "    <tr>\n",
       "      <th>2379 </th>\n",
       "      <td>  9922</td>\n",
       "      <td> 0.00</td>\n",
       "      <td> KNU/101/2014_T2</td>\n",
       "      <td>   notpassing</td>\n",
       "      <td>   Eimrined Eimrines</td>\n",
       "      <td> 2015-01-14 23:54:10</td>\n",
       "      <td>   Eimrined Eimrines</td>\n",
       "      <td> o</td>\n",
       "      <td> 2014</td>\n",
       "      <td>  none</td>\n",
       "    </tr>\n",
       "    <tr>\n",
       "      <th>2490 </th>\n",
       "      <td> 10975</td>\n",
       "      <td> 0.00</td>\n",
       "      <td> KNU/101/2014_T2</td>\n",
       "      <td>   notpassing</td>\n",
       "      <td>       Ljudmila Imka</td>\n",
       "      <td> 2015-01-14 23:54:22</td>\n",
       "      <td>       Ljudmila Imka</td>\n",
       "      <td> o</td>\n",
       "      <td> 1965</td>\n",
       "      <td>     m</td>\n",
       "    </tr>\n",
       "    <tr>\n",
       "      <th>3159 </th>\n",
       "      <td> 13704</td>\n",
       "      <td> 0.00</td>\n",
       "      <td> KNU/101/2014_T2</td>\n",
       "      <td>   notpassing</td>\n",
       "      <td>            Jane Doe</td>\n",
       "      <td> 2015-01-14 23:55:45</td>\n",
       "      <td>            Jane Doe</td>\n",
       "      <td> o</td>\n",
       "      <td> 1987</td>\n",
       "      <td>    hs</td>\n",
       "    </tr>\n",
       "    <tr>\n",
       "      <th>4987 </th>\n",
       "      <td> 21031</td>\n",
       "      <td> 0.00</td>\n",
       "      <td> KNU/101/2014_T2</td>\n",
       "      <td>   notpassing</td>\n",
       "      <td>         ЛесяТарасюк</td>\n",
       "      <td> 2015-01-14 23:59:36</td>\n",
       "      <td>         ЛесяТарасюк</td>\n",
       "      <td> o</td>\n",
       "      <td> 1982</td>\n",
       "      <td>     m</td>\n",
       "    </tr>\n",
       "    <tr>\n",
       "      <th>7535 </th>\n",
       "      <td> 31421</td>\n",
       "      <td> 0.00</td>\n",
       "      <td> KNU/101/2014_T2</td>\n",
       "      <td>   notpassing</td>\n",
       "      <td> Іванова  Олександра</td>\n",
       "      <td> 2015-01-15 00:05:32</td>\n",
       "      <td> Іванова  Олександра</td>\n",
       "      <td> o</td>\n",
       "      <td> 1990</td>\n",
       "      <td>     m</td>\n",
       "    </tr>\n",
       "    <tr>\n",
       "      <th>9092 </th>\n",
       "      <td> 37487</td>\n",
       "      <td> 0.00</td>\n",
       "      <td> KNU/101/2014_T2</td>\n",
       "      <td>   notpassing</td>\n",
       "      <td>            Malik 88</td>\n",
       "      <td> 2015-01-15 00:09:18</td>\n",
       "      <td>            Malik 88</td>\n",
       "      <td> o</td>\n",
       "      <td> 1992</td>\n",
       "      <td> other</td>\n",
       "    </tr>\n",
       "    <tr>\n",
       "      <th>10426</th>\n",
       "      <td>  2176</td>\n",
       "      <td> 0.00</td>\n",
       "      <td> KNU/101/2014_T2</td>\n",
       "      <td>   notpassing</td>\n",
       "      <td>         Sergiy Giba</td>\n",
       "      <td> 2015-01-15 00:12:35</td>\n",
       "      <td>         Sergiy Giba</td>\n",
       "      <td> o</td>\n",
       "      <td> 1997</td>\n",
       "      <td>    hs</td>\n",
       "    </tr>\n",
       "  </tbody>\n",
       "</table>\n",
       "</div>"
      ],
      "text/plain": []
     },
     "metadata": {},
     "output_type": "execute_result"
    }
   ],
   "source": [
    "registered[registered.gender == 'o']"
   ]
  },
  {
   "cell_type": "code",
   "execution_count": 19,
   "metadata": {},
   "outputs": [],
   "source": [
    "from datetime import datetime"
   ]
  },
  {
   "cell_type": "code",
   "execution_count": 36,
   "metadata": {},
   "outputs": [
    {
     "data": {
      "text/html": [
       "<div style=\"max-height:1000px;max-width:1500px;overflow:auto;\">\n",
       "<table border=\"1\" class=\"dataframe\">\n",
       "  <thead>\n",
       "    <tr style=\"text-align: right;\">\n",
       "      <th></th>\n",
       "      <th>name</th>\n",
       "      <th>value</th>\n",
       "    </tr>\n",
       "    <tr>\n",
       "      <th>gender</th>\n",
       "      <th></th>\n",
       "      <th></th>\n",
       "    </tr>\n",
       "  </thead>\n",
       "  <tbody>\n",
       "    <tr>\n",
       "      <th>f</th>\n",
       "      <td> f</td>\n",
       "      <td> 38129</td>\n",
       "    </tr>\n",
       "    <tr>\n",
       "      <th>m</th>\n",
       "      <td> m</td>\n",
       "      <td> 40278</td>\n",
       "    </tr>\n",
       "  </tbody>\n",
       "</table>\n",
       "</div>"
      ],
      "text/plain": []
     },
     "metadata": {},
     "output_type": "execute_result"
    }
   ],
   "source": [
    "registered = users[['user_id','name','gender','year_of_birth','level_of_education']]\n",
    "registeredGroups =registered.groupby('gender').count().ix[:,0]\n",
    "\n",
    "plot_data = pd.concat([pd.DataFrame(registeredGroups.index,index=registeredGroups.index),registeredGroups],axis=1).fillna(0)\n",
    "plot_data.columns = ['name','value']\n",
    "plot_data = plot_data[plot_data.name != 'o']\n",
    "\n",
    "plot_data"
   ]
  },
  {
   "cell_type": "code",
   "execution_count": 33,
   "metadata": {},
   "outputs": [
    {
     "data": {
      "text/html": [
       "<div style=\"max-height:1000px;max-width:1500px;overflow:auto;\">\n",
       "<table border=\"1\" class=\"dataframe\">\n",
       "  <thead>\n",
       "    <tr style=\"text-align: right;\">\n",
       "      <th></th>\n",
       "      <th>gender</th>\n",
       "      <th>user_id</th>\n",
       "    </tr>\n",
       "    <tr>\n",
       "      <th>gender</th>\n",
       "      <th></th>\n",
       "      <th></th>\n",
       "    </tr>\n",
       "  </thead>\n",
       "  <tbody>\n",
       "    <tr>\n",
       "      <th>f</th>\n",
       "      <td> f</td>\n",
       "      <td> 38129</td>\n",
       "    </tr>\n",
       "    <tr>\n",
       "      <th>m</th>\n",
       "      <td> m</td>\n",
       "      <td> 40278</td>\n",
       "    </tr>\n",
       "    <tr>\n",
       "      <th>o</th>\n",
       "      <td> o</td>\n",
       "      <td>   138</td>\n",
       "    </tr>\n",
       "  </tbody>\n",
       "</table>\n",
       "</div>"
      ],
      "text/plain": []
     },
     "metadata": {},
     "output_type": "execute_result"
    }
   ],
   "source": [
    "pd.concat([pd.DataFrame(registeredGroups.index,index=registeredGroups.index),registeredGroups],axis=1)#.fillna(0)"
   ]
  },
  {
   "cell_type": "code",
   "execution_count": 53,
   "metadata": {},
   "outputs": [
    {
     "data": {
      "text/plain": [
       "module_id\n",
       "i4x://KNU/101/problem/e39129c796754099b0974db74c5b5b01    6260\n",
       "i4x://KNU/101/problem/43dbbb5417294a0faa1c43f02473e7ec    3698\n",
       "i4x://KNU/101/problem/84d4314a7fd041f59e9219de9b4e7cd0    3035\n",
       "i4x://KNU/101/problem/7ac56261c85548fd97ae8a56e5a355f6    2694\n",
       "i4x://KNU/101/problem/b9daef58e5884fa8b0c36c5c9bd233ce    2283\n",
       "i4x://KNU/101/problem/7fb5b2515e09416f9977f465f909a746    1896\n",
       "i4x://KNU/101/problem/e663ed76dc9445dead9354a158daf163    1695\n",
       "Name: num, dtype: int64"
      ]
     },
     "execution_count": 53,
     "metadata": {},
     "output_type": "execute_result"
    }
   ],
   "source": [
    "sm = studentmodule\n",
    "problems = sm[sm.module_type == 'problem']\n",
    "a = problems.groupby('module_id').count().ix[:,0]\n",
    "b = problems.groupby('module_id').apply(lambda x: x.created.min())\n",
    "pd.concat([a,b],axis=1,keys=['num','date']).sort('date').num"
   ]
  },
  {
   "cell_type": "code",
   "execution_count": 8,
   "metadata": {},
   "outputs": [
    {
     "data": {
      "text/plain": [
       "0     {\"correct_map\": {\"i4x-KNU-101-problem-e39129c7...\n",
       "1     {\"seed\": 1, \"input_state\": {\"i4x-KNU-101-probl...\n",
       "2     {\"correct_map\": {\"i4x-KNU-101-problem-e39129c7...\n",
       "3     {\"seed\": 1, \"input_state\": {\"i4x-KNU-101-probl...\n",
       "4     {\"seed\": 1, \"input_state\": {\"i4x-KNU-101-probl...\n",
       "5     {\"correct_map\": {\"i4x-KNU-101-problem-e39129c7...\n",
       "6     {\"correct_map\": {\"i4x-KNU-101-problem-e39129c7...\n",
       "7     {\"correct_map\": {\"i4x-KNU-101-problem-e39129c7...\n",
       "8     {\"correct_map\": {\"i4x-KNU-101-problem-e39129c7...\n",
       "9     {\"seed\": 1, \"input_state\": {\"i4x-KNU-101-probl...\n",
       "10    {\"seed\": 1, \"input_state\": {\"i4x-KNU-101-probl...\n",
       "11    {\"seed\": 1, \"input_state\": {\"i4x-KNU-101-probl...\n",
       "12    {\"correct_map\": {\"i4x-KNU-101-problem-e39129c7...\n",
       "13    {\"correct_map\": {\"i4x-KNU-101-problem-e39129c7...\n",
       "14    {\"correct_map\": {\"i4x-KNU-101-problem-e39129c7...\n",
       "...\n",
       "92100    {\"seed\": 1, \"input_state\": {\"i4x-KNU-101-probl...\n",
       "92101    {\"seed\": 1, \"input_state\": {\"i4x-KNU-101-probl...\n",
       "92102    {\"seed\": 1, \"input_state\": {\"i4x-KNU-101-probl...\n",
       "92103    {\"seed\": 1, \"input_state\": {\"i4x-KNU-101-probl...\n",
       "92104    {\"seed\": 1, \"input_state\": {\"i4x-KNU-101-probl...\n",
       "92105    {\"seed\": 1, \"input_state\": {\"i4x-KNU-101-probl...\n",
       "92106    {\"seed\": 1, \"input_state\": {\"i4x-KNU-101-probl...\n",
       "92107    {\"seed\": 1, \"input_state\": {\"i4x-KNU-101-probl...\n",
       "92108    {\"seed\": 1, \"input_state\": {\"i4x-KNU-101-probl...\n",
       "92109    {\"seed\": 1, \"input_state\": {\"i4x-KNU-101-probl...\n",
       "92110    {\"correct_map\": {\"i4x-KNU-101-problem-e663ed76...\n",
       "92111    {\"seed\": 1, \"input_state\": {\"i4x-KNU-101-probl...\n",
       "92112    {\"seed\": 1, \"input_state\": {\"i4x-KNU-101-probl...\n",
       "92113    {\"seed\": 1, \"input_state\": {\"i4x-KNU-101-probl...\n",
       "92114    {\"seed\": 1, \"input_state\": {\"i4x-KNU-101-probl...\n",
       "Name: state, Length: 92115, dtype: object"
      ]
     },
     "execution_count": 8,
     "metadata": {},
     "output_type": "execute_result"
    }
   ],
   "source": [
    "studentmodule.state"
   ]
  },
  {
   "cell_type": "code",
   "execution_count": 10,
   "metadata": {},
   "outputs": [
    {
     "data": {
      "text/plain": [
       "0    2014-11-18 18:28:45\n",
       "1    2014-11-18 20:44:12\n",
       "2    2014-11-19 09:02:42\n",
       "3    2014-11-19 09:05:22\n",
       "4    2014-11-19 09:07:53\n",
       "5    2014-11-19 09:08:00\n",
       "6    2014-11-19 09:08:06\n",
       "7    2014-11-19 09:08:26\n",
       "8    2014-11-19 09:08:46\n",
       "9    2014-11-19 09:09:05\n",
       "10   2014-11-19 09:09:10\n",
       "11   2014-11-19 09:09:20\n",
       "12   2014-11-19 09:09:30\n",
       "13   2014-11-19 09:09:44\n",
       "14   2014-11-19 09:11:13\n",
       "...\n",
       "92100   2015-01-20 14:09:34\n",
       "92101   2015-01-20 14:15:41\n",
       "92102   2015-01-20 14:25:20\n",
       "92103   2015-01-20 14:25:27\n",
       "92104   2015-01-20 14:41:20\n",
       "92105   2015-01-20 14:43:19\n",
       "92106   2015-01-20 14:48:39\n",
       "92107   2015-01-20 15:17:08\n",
       "92108   2015-01-20 15:25:43\n",
       "92109   2015-01-20 15:44:58\n",
       "92110   2015-01-20 15:46:50\n",
       "92111   2015-01-20 15:47:15\n",
       "92112   2015-01-20 16:21:20\n",
       "92113   2015-01-20 16:48:49\n",
       "92114   2015-01-20 17:14:59\n",
       "Name: created, Length: 92115, dtype: datetime64[ns]"
      ]
     },
     "execution_count": 10,
     "metadata": {},
     "output_type": "execute_result"
    }
   ],
   "source": [
    "import time\n",
    "import datetime\n",
    "studentmodule.created.apply(lambda x: datetime.datetime.fromtimestamp(time.mktime(time.strptime(x,'%Y-%m-%d %H:%M:%S'))))"
   ]
  },
  {
   "cell_type": "code",
   "execution_count": null,
   "metadata": {},
   "outputs": [],
   "source": [
    ""
   ]
  }
 ],
 "metadata": {
  "name": "",
  "signature": "sha256:a35da3518a9e03226f4342790c9e6dff8c2d649b084d89bc943b94518f3bc721"
 },
 "nbformat": 4,
 "nbformat_minor": 0
}